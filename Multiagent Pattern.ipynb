{
 "cells": [
  {
   "cell_type": "markdown",
   "metadata": {
    "id": "pgu2j3Eo5RQX"
   },
   "source": [
    "# MultiAgent Pattern"
   ]
  },
  {
   "cell_type": "code",
   "execution_count": 1,
   "metadata": {},
   "outputs": [
    {
     "data": {
      "text/plain": [
       "True"
      ]
     },
     "execution_count": 1,
     "metadata": {},
     "output_type": "execute_result"
    }
   ],
   "source": [
    "from dotenv import load_dotenv\n",
    "load_dotenv()"
   ]
  },
  {
   "cell_type": "markdown",
   "metadata": {
    "id": "bC-of0JG61g-"
   },
   "source": [
    "## The Agent Class"
   ]
  },
  {
   "cell_type": "markdown",
   "metadata": {
    "id": "-BTG_bdcBnzp"
   },
   "source": [
    "#### General Helpers"
   ]
  },
  {
   "cell_type": "code",
   "execution_count": 2,
   "metadata": {
    "cellView": "form",
    "id": "eML6xI3yB2no"
   },
   "outputs": [],
   "source": [
    "from utils import (\n",
    "    completions_create,\n",
    "    build_prompt_structure,\n",
    "    update_chat_history,\n",
    "    ChatHistory,\n",
    "    FixedFirstChatHistory,\n",
    "    fancy_print,\n",
    "    get_fn_signature,\n",
    "    validate_arguments,\n",
    "    Tool,\n",
    "    tool,\n",
    "    extract_tag_content,\n",
    "    TagContentResult\n",
    ")"
   ]
  },
  {
   "cell_type": "markdown",
   "metadata": {
    "id": "1aTVf2xhBY3t"
   },
   "source": [
    "#### Tools"
   ]
  },
  {
   "cell_type": "code",
   "execution_count": 3,
   "metadata": {
    "cellView": "form",
    "id": "TaGc-RyzB9oq"
   },
   "outputs": [],
   "source": [
    "from react import ReactAgent"
   ]
  },
  {
   "cell_type": "code",
   "execution_count": 4,
   "metadata": {
    "id": "9Cl2iAov65SU"
   },
   "outputs": [],
   "source": [
    "from openai import OpenAI\n",
    "from textwrap import dedent\n",
    "from react import Crew  # prevents undefined Crew when using agent solo\n",
    "\n",
    "\n",
    "class Agent:\n",
    "    \"\"\"\n",
    "    Represents an AI agent that can work as part of a team to complete tasks.\n",
    "\n",
    "    This class implements an agent with dependencies, context handling, and task execution capabilities.\n",
    "    It can be used in a multi-agent system where agents collaborate to solve complex problems.\n",
    "\n",
    "    Attributes:\n",
    "        name (str): The name of the agent.\n",
    "        backstory (str): The backstory or background of the agent.\n",
    "        task_description (str): A description of the task assigned to the agent.\n",
    "        task_expected_output (str): The expected format or content of the task output.\n",
    "        react_agent (ReactAgent): An instance of ReactAgent used for generating responses.\n",
    "        dependencies (list[Agent]): A list of Agent instances that this agent depends on.\n",
    "        dependents (list[Agent]): A list of Agent instances that depend on this agent.\n",
    "        context (str): Accumulated context information from other agents.\n",
    "\n",
    "    Args:\n",
    "        name (str): The name of the agent.\n",
    "        backstory (str): The backstory or background of the agent.\n",
    "        task_description (str): A description of the task assigned to the agent.\n",
    "        task_expected_output (str, optional): The expected format or content of the task output. Defaults to \"\".\n",
    "        tools (list[Tool] | None, optional): A list of Tool instances available to the agent. Defaults to None.\n",
    "        llm (str, optional): The name of the language model to use. Defaults to \"gpt-4o\".\n",
    "    \"\"\"\n",
    "\n",
    "    def __init__(\n",
    "        self,\n",
    "        name: str,\n",
    "        backstory: str,\n",
    "        task_description: str,\n",
    "        task_expected_output: str = \"\",\n",
    "        tools: list[Tool] | None = None,\n",
    "        llm: str = \"gpt-4o\",\n",
    "    ):\n",
    "        self.name = name\n",
    "        self.backstory = backstory\n",
    "        self.task_description = task_description\n",
    "        self.task_expected_output = task_expected_output\n",
    "        self.react_agent = ReactAgent(\n",
    "            model=llm, system_prompt=self.backstory, tools=tools or []\n",
    "        )\n",
    "\n",
    "        self.dependencies: list[Agent] = []  # Agents that this agent depends on\n",
    "        self.dependents: list[Agent] = []  # Agents that depend on this agent\n",
    "\n",
    "        self.context = \"\"\n",
    "\n",
    "        # Automatically register this agent to the active Crew context if one exists\n",
    "        Crew.register_agent(self)\n",
    "\n",
    "    def __repr__(self):\n",
    "        return f\"{self.name}\"\n",
    "\n",
    "    def __rshift__(self, other):\n",
    "        \"\"\"\n",
    "        Defines the '>>' operator. This operator is used to indicate agent dependency.\n",
    "\n",
    "        Args:\n",
    "            other (Agent): The agent that depends on this agent.\n",
    "        \"\"\"\n",
    "        self.add_dependent(other)\n",
    "        return other  # Allow chaining\n",
    "\n",
    "    def __lshift__(self, other):\n",
    "        \"\"\"\n",
    "        Defines the '<<' operator to indicate agent dependency in reverse.\n",
    "\n",
    "        Args:\n",
    "            other (Agent): The agent that this agent depends on.\n",
    "\n",
    "        Returns:\n",
    "            Agent: The `other` agent to allow for chaining.\n",
    "        \"\"\"\n",
    "        self.add_dependency(other)\n",
    "        return other  # Allow chaining\n",
    "\n",
    "    def __rrshift__(self, other):\n",
    "        \"\"\"\n",
    "        Defines the '<<' operator.This operator is used to indicate agent dependency.\n",
    "\n",
    "        Args:\n",
    "            other (Agent): The agent that this agent depends on.\n",
    "        \"\"\"\n",
    "        self.add_dependency(other)\n",
    "        return self  # Allow chaining\n",
    "\n",
    "    def __rlshift__(self, other):\n",
    "        \"\"\"\n",
    "        Defines the '<<' operator when evaluated from right to left.\n",
    "        This operator is used to indicate agent dependency in the normal order.\n",
    "\n",
    "        Args:\n",
    "            other (Agent): The agent that depends on this agent.\n",
    "\n",
    "        Returns:\n",
    "            Agent: The current agent (self) to allow for chaining.\n",
    "        \"\"\"\n",
    "        self.add_dependent(other)\n",
    "        return self  # Allow chaining\n",
    "\n",
    "    def add_dependency(self, other):\n",
    "        \"\"\"\n",
    "        Adds a dependency to this agent.\n",
    "\n",
    "        Args:\n",
    "            other (Agent | list[Agent]): The agent(s) that this agent depends on.\n",
    "\n",
    "        Raises:\n",
    "            TypeError: If the dependency is not an Agent or a list of Agents.\n",
    "        \"\"\"\n",
    "        if isinstance(other, Agent):\n",
    "            self.dependencies.append(other)\n",
    "            other.dependents.append(self)\n",
    "        elif isinstance(other, list) and all(isinstance(item, Agent) for item in other):\n",
    "            for item in other:\n",
    "                self.dependencies.append(item)\n",
    "                item.dependents.append(self)\n",
    "        else:\n",
    "            raise TypeError(\"The dependency must be an instance or list of Agent.\")\n",
    "\n",
    "    def add_dependent(self, other):\n",
    "        \"\"\"\n",
    "        Adds a dependent to this agent.\n",
    "\n",
    "        Args:\n",
    "            other (Agent | list[Agent]): The agent(s) that depend on this agent.\n",
    "\n",
    "        Raises:\n",
    "            TypeError: If the dependent is not an Agent or a list of Agents.\n",
    "        \"\"\"\n",
    "        if isinstance(other, Agent):\n",
    "            other.dependencies.append(self)\n",
    "            self.dependents.append(other)\n",
    "        elif isinstance(other, list) and all(isinstance(item, Agent) for item in other):\n",
    "            for item in other:\n",
    "                item.dependencies.append(self)\n",
    "                self.dependents.append(item)\n",
    "        else:\n",
    "            raise TypeError(\"The dependent must be an instance or list of Agent.\")\n",
    "\n",
    "    def receive_context(self, input_data):\n",
    "        \"\"\"\n",
    "        Receives and stores context information from other agents.\n",
    "\n",
    "        Args:\n",
    "            input_data (str): The context information to be added.\n",
    "        \"\"\"\n",
    "        self.context += f\"{self.name} received context: \\n{input_data}\"\n",
    "\n",
    "    def create_prompt(self):\n",
    "        \"\"\"\n",
    "        Creates a prompt for the agent based on its task description, expected output, and context.\n",
    "\n",
    "        Returns:\n",
    "            str: The formatted prompt string.\n",
    "        \"\"\"\n",
    "        prompt = dedent(\n",
    "            f\"\"\"\n",
    "        You are an AI agent. You are part of a team of agents working together to complete a task.\n",
    "        I'm going to give you the task description enclosed in <task_description></task_description> tags. I'll also give\n",
    "        you the available context from the other agents in <context></context> tags. If the context\n",
    "        is not available, the <context></context> tags will be empty. You'll also receive the task\n",
    "        expected output enclosed in <task_expected_output></task_expected_output> tags. With all this information\n",
    "        you need to create the best possible response, always respecting the format as describe in\n",
    "        <task_expected_output></task_expected_output> tags. If expected output is not available, just create\n",
    "        a meaningful response to complete the task.\n",
    "\n",
    "        <task_description>\n",
    "        {self.task_description}\n",
    "        </task_description>\n",
    "\n",
    "        <task_expected_output>\n",
    "        {self.task_expected_output}\n",
    "        </task_expected_output>\n",
    "\n",
    "        <context>\n",
    "        {self.context}\n",
    "        </context>\n",
    "\n",
    "        Your response:\n",
    "        \"\"\"\n",
    "        ).strip()\n",
    "\n",
    "        return prompt\n",
    "\n",
    "    def run(self):\n",
    "        \"\"\"\n",
    "        Runs the agent's task and generates the output.\n",
    "\n",
    "        This method creates a prompt, runs it through the ReactAgent, and passes the output to all dependent agents.\n",
    "\n",
    "        Returns:\n",
    "            str: The output generated by the agent.\n",
    "        \"\"\"\n",
    "        msg = self.create_prompt()\n",
    "        output = self.react_agent.run(user_msg=msg)\n",
    "\n",
    "        # Pass the output to all dependents\n",
    "        for dependent in self.dependents:\n",
    "            dependent.receive_context(output)\n",
    "        return output\n"
   ]
  },
  {
   "cell_type": "code",
   "execution_count": 5,
   "metadata": {
    "id": "5EcC1lPoCgIW"
   },
   "outputs": [],
   "source": [
    "agent_example = Agent(\n",
    "    name=\"Poet Agent\",\n",
    "    backstory=\"You are a well-known poet, who enjoys creating high quality poetry.\",\n",
    "    task_description=\"Write a poem about the meaning of life in less than 6 lines\",\n",
    "    task_expected_output=\"Just output the poem, without any title or introductory sentences\",\n",
    ")"
   ]
  },
  {
   "cell_type": "code",
   "execution_count": 6,
   "metadata": {
    "id": "x5MAc-vLClXW"
   },
   "outputs": [
    {
     "name": "stdout",
     "output_type": "stream",
     "text": [
      "In fleeting moments, time reveals,  \n",
      "The dance of stars, where fate conceals,  \n",
      "In love's embrace and sorrow's light,  \n",
      "Life's essence shines in day and night.  \n",
      "Through endless dreams and whispered air,  \n",
      "We find our meaning, growing rare.  \n"
     ]
    }
   ],
   "source": [
    "print(agent_example.run())"
   ]
  },
  {
   "cell_type": "code",
   "execution_count": 7,
   "metadata": {
    "id": "ag7PjclbDK7G"
   },
   "outputs": [],
   "source": [
    "from tools import write_str_to_txt"
   ]
  },
  {
   "cell_type": "code",
   "execution_count": 8,
   "metadata": {
    "id": "RiGJlCAdDLQk"
   },
   "outputs": [],
   "source": [
    "agent_tool_example = Agent(\n",
    "    name=\"Writer Agent\",\n",
    "    backstory=\"You are a language model specialised in writing text into .txt files\",\n",
    "    task_description=\"Write the string 'This is a Tool Agent' into './tool_agent_example.txt'\",\n",
    "    task_expected_output=\"A .txt file containing the given string\",\n",
    "    tools=write_str_to_txt,\n",
    ")"
   ]
  },
  {
   "cell_type": "code",
   "execution_count": 9,
   "metadata": {
    "id": "hI2-4-H_DMwM"
   },
   "outputs": [
    {
     "name": "stdout",
     "output_type": "stream",
     "text": [
      "\u001b[35m\n",
      "Thought: The task requires writing a specific string into a text file. The task expected output describes creating a .txt file with the given string.\n",
      "\u001b[32m\n",
      "Using Tool: write_str_to_txt\n",
      "\u001b[32m\n",
      "Tool call dict: \n",
      "{'name': 'write_str_to_txt', 'arguments': {'string_data': 'This is a Tool Agent', 'txt_filename': './tool_agent_example.txt'}, 'id': 0}\n",
      "Data successfully written to ./tool_agent_example.txt\n",
      "\u001b[32m\n",
      "Tool result: \n",
      "None\n",
      "\u001b[34m\n",
      "Observations: {0: None}\n"
     ]
    },
    {
     "data": {
      "text/plain": [
       "\"File './tool_agent_example.txt' has been successfully created with the specified content.\""
      ]
     },
     "execution_count": 9,
     "metadata": {},
     "output_type": "execute_result"
    }
   ],
   "source": [
    "agent_tool_example.run()"
   ]
  },
  {
   "cell_type": "markdown",
   "metadata": {
    "id": "9MLSH7DuDUbq"
   },
   "source": [
    "####  Defining Agent Dependencies\n",
    "\n",
    "Let's define two agents now.\n"
   ]
  },
  {
   "cell_type": "code",
   "execution_count": 10,
   "metadata": {
    "id": "Y_7dmbybDN7F"
   },
   "outputs": [],
   "source": [
    "agent_1 = Agent(\n",
    "    name=\"Poet Agent\",\n",
    "    backstory=\"You are a well-known poet, who enjoys creating high quality poetry.\",\n",
    "    task_description=\"Write a poem about the meaning of life in 4 lines\",\n",
    "    task_expected_output=\"Just output the poem, without any title or introductory sentences\",\n",
    ")\n",
    "\n",
    "agent_2 = Agent(\n",
    "    name=\"Poem Translator Agent\",\n",
    "    backstory=\"You are an expert translator especially skilled in Ancient Greek\",\n",
    "    task_description=\"Translate a poem into Ancient Greek\",\n",
    "    task_expected_output=\"Just output the translated poem and nothing else\"\n",
    ")"
   ]
  },
  {
   "cell_type": "markdown",
   "metadata": {
    "id": "Z9Q4OGDaDiL1"
   },
   "source": [
    "We can define the agent dependencies using the `>>` operator."
   ]
  },
  {
   "cell_type": "code",
   "execution_count": 11,
   "metadata": {
    "id": "PFvG33ZqDgtz"
   },
   "outputs": [
    {
     "data": {
      "text/plain": [
       "Poem Translator Agent"
      ]
     },
     "execution_count": 11,
     "metadata": {},
     "output_type": "execute_result"
    }
   ],
   "source": [
    "agent_1 >> agent_2"
   ]
  },
  {
   "cell_type": "markdown",
   "metadata": {
    "id": "AijZG06xDlPW"
   },
   "source": [
    "This means `agent_2` depends on `agent_1`. We can check the dependencies and dependents of both agents."
   ]
  },
  {
   "cell_type": "code",
   "execution_count": 12,
   "metadata": {
    "id": "kOw5KXI-DjfX"
   },
   "outputs": [
    {
     "name": "stdout",
     "output_type": "stream",
     "text": [
      "Agent 1 dependencies:  []\n",
      "Agent 1 dependents:  [Poem Translator Agent]\n",
      "Agent 2 dependencies:  [Poet Agent]\n",
      "Agent 2 dependents:  []\n"
     ]
    }
   ],
   "source": [
    "print(\"Agent 1 dependencies: \", agent_1.dependencies)\n",
    "print(\"Agent 1 dependents: \", agent_1.dependents)\n",
    "print(\"Agent 2 dependencies: \", agent_2.dependencies)\n",
    "print(\"Agent 2 dependents: \", agent_2.dependents)"
   ]
  },
  {
   "cell_type": "markdown",
   "metadata": {
    "id": "Esj_1gdxDoTX"
   },
   "source": [
    "Now, if we run `agent_1`, the results will be added to `agent_2`'s context."
   ]
  },
  {
   "cell_type": "code",
   "execution_count": 13,
   "metadata": {
    "id": "fF3EwahNDmqR"
   },
   "outputs": [
    {
     "name": "stdout",
     "output_type": "stream",
     "text": [
      "In the quiet breath of dawn's embrace,  \n",
      "Life whispers secrets in a gentle trace,  \n",
      "Moments weave like threads in cosmic loom,  \n",
      "In love and wonder, souls find room.\n"
     ]
    }
   ],
   "source": [
    "print(agent_1.run())"
   ]
  },
  {
   "cell_type": "code",
   "execution_count": 14,
   "metadata": {
    "id": "pH63oqMcDpv3"
   },
   "outputs": [
    {
     "name": "stdout",
     "output_type": "stream",
     "text": [
      "Poem Translator Agent received context: \n",
      "In the quiet breath of dawn's embrace,  \n",
      "Life whispers secrets in a gentle trace,  \n",
      "Moments weave like threads in cosmic loom,  \n",
      "In love and wonder, souls find room.\n"
     ]
    }
   ],
   "source": [
    "print(agent_2.context)"
   ]
  },
  {
   "cell_type": "markdown",
   "metadata": {
    "id": "aj5zek6RDtP0"
   },
   "source": [
    "Now, if we run the second agent, it will use the context received from the previous agent to generate its output."
   ]
  },
  {
   "cell_type": "code",
   "execution_count": 15,
   "metadata": {
    "id": "1I-KuXEdDrWf"
   },
   "outputs": [
    {
     "name": "stdout",
     "output_type": "stream",
     "text": [
      "Ἐν τῇ ἡσυχίᾳ ἀνατολῆς ἀγκαλιάσματος,  \n",
      "Ζωὴ ψιθυρίζει μυστήρια ἐν ἁπαλῇ ἴχνει,  \n",
      "Στιγμαὶ ὑφαίνονται ὥσπερ κλωστὰς ἐν τῷ κοσμικῷ ἀργαλειῷ,  \n",
      "Ἐν ἔρωτι καὶ θαύματι, ψυχαὶ εὑρίσκουσιν τόπον.\n"
     ]
    }
   ],
   "source": [
    "print(agent_2.run())"
   ]
  },
  {
   "cell_type": "markdown",
   "metadata": {
    "id": "5N3SprgtDwZT"
   },
   "source": [
    "## The Crew"
   ]
  },
  {
   "cell_type": "code",
   "execution_count": 16,
   "metadata": {
    "id": "QTw0fbF5Dufk"
   },
   "outputs": [],
   "source": [
    "from collections import deque\n",
    "from graphviz import Digraph  # type: ignore\n",
    "from colorama import Fore\n",
    "\n",
    "\n",
    "class Crew:\n",
    "    \"\"\"\n",
    "    A class representing a crew of agents working together.\n",
    "\n",
    "    This class manages a group of agents, their dependencies, and provides methods\n",
    "    for running the agents in a topologically sorted order.\n",
    "\n",
    "    Attributes:\n",
    "        current_crew (Crew): Class-level variable to track the active Crew context.\n",
    "        agents (list): A list of agents in the crew.\n",
    "    \"\"\"\n",
    "\n",
    "    current_crew = None\n",
    "\n",
    "    def __init__(self):\n",
    "        self.agents = []\n",
    "\n",
    "    def __enter__(self):\n",
    "        \"\"\"\n",
    "        Enters the context manager, setting this crew as the current active context.\n",
    "\n",
    "        Returns:\n",
    "            Crew: The current Crew instance.\n",
    "        \"\"\"\n",
    "        Crew.current_crew = self\n",
    "        return self\n",
    "\n",
    "    def __exit__(self, exc_type, exc_val, exc_tb):\n",
    "        \"\"\"\n",
    "        Exits the context manager, clearing the active context.\n",
    "\n",
    "        Args:\n",
    "            exc_type: The exception type, if an exception was raised.\n",
    "            exc_val: The exception value, if an exception was raised.\n",
    "            exc_tb: The traceback, if an exception was raised.\n",
    "        \"\"\"\n",
    "        Crew.current_crew = None\n",
    "\n",
    "    def add_agent(self, agent):\n",
    "        \"\"\"\n",
    "        Adds an agent to the crew.\n",
    "\n",
    "        Args:\n",
    "            agent: The agent to be added to the crew.\n",
    "        \"\"\"\n",
    "        self.agents.append(agent)\n",
    "\n",
    "    @staticmethod\n",
    "    def register_agent(agent):\n",
    "        \"\"\"\n",
    "        Registers an agent with the current active crew context.\n",
    "\n",
    "        Args:\n",
    "            agent: The agent to be registered.\n",
    "        \"\"\"\n",
    "        if Crew.current_crew is not None:\n",
    "            Crew.current_crew.add_agent(agent)\n",
    "\n",
    "    def topological_sort(self):\n",
    "        \"\"\"\n",
    "        Performs a topological sort of the agents based on their dependencies.\n",
    "\n",
    "        Returns:\n",
    "            list: A list of agents sorted in topological order.\n",
    "\n",
    "        Raises:\n",
    "            ValueError: If there's a circular dependency among the agents.\n",
    "        \"\"\"\n",
    "        in_degree = {agent: len(agent.dependencies) for agent in self.agents}\n",
    "        queue = deque([agent for agent in self.agents if in_degree[agent] == 0])\n",
    "\n",
    "        sorted_agents = []\n",
    "\n",
    "        while queue:\n",
    "            current_agent = queue.popleft()\n",
    "            sorted_agents.append(current_agent)\n",
    "\n",
    "            for dependent in current_agent.dependents:\n",
    "                in_degree[dependent] -= 1\n",
    "                if in_degree[dependent] == 0:\n",
    "                    queue.append(dependent)\n",
    "\n",
    "        if len(sorted_agents) != len(self.agents):\n",
    "            raise ValueError(\n",
    "                \"Circular dependencies detected among agents, preventing a valid topological sort\"\n",
    "            )\n",
    "\n",
    "        return sorted_agents\n",
    "\n",
    "    def plot(self):\n",
    "        \"\"\"\n",
    "        Plots the Directed Acyclic Graph (DAG) of agents in the crew using Graphviz.\n",
    "\n",
    "        Returns:\n",
    "            Digraph: A Graphviz Digraph object representing the agent dependencies.\n",
    "        \"\"\"\n",
    "        dot = Digraph(format=\"png\")  # Set format to PNG for inline display\n",
    "\n",
    "        # Add nodes and edges for each agent in the crew\n",
    "        for agent in self.agents:\n",
    "            dot.node(agent.name)\n",
    "            for dependency in agent.dependencies:\n",
    "                dot.edge(dependency.name, agent.name)\n",
    "        return dot\n",
    "\n",
    "    def run(self):\n",
    "        \"\"\"\n",
    "        Runs all agents in the crew in topologically sorted order.\n",
    "\n",
    "        This method executes each agent's run method and prints the results.\n",
    "        \"\"\"\n",
    "        sorted_agents = self.topological_sort()\n",
    "        for agent in sorted_agents:\n",
    "            fancy_print(f\"RUNNING AGENT: {agent}\")\n",
    "            print(Fore.RED + f\"{agent.run()}\")\n"
   ]
  },
  {
   "cell_type": "markdown",
   "metadata": {
    "id": "POKakLCBD4O5"
   },
   "source": [
    "Let's define a sequential crew of agents now."
   ]
  },
  {
   "cell_type": "code",
   "execution_count": 17,
   "metadata": {
    "id": "Is2z1s_lD1Wc"
   },
   "outputs": [],
   "source": [
    "with Crew() as crew:\n",
    "    agent_1 = Agent(\n",
    "        name=\"Poet Agent\",\n",
    "        backstory=\"You are a well-known poet, who enjoys creating high quality poetry.\",\n",
    "        task_description=\"Write a poem about the meaning of life in less than 6 lines\",\n",
    "        task_expected_output=\"Just output the poem, without any title or introductory sentences\",\n",
    "    )\n",
    "\n",
    "    agent_2 = Agent(\n",
    "        name=\"Poem Translator Agent\",\n",
    "        backstory=\"You are an expert translator especially skilled in Spanish\",\n",
    "        task_description=\"Translate a poem into Spanish\",\n",
    "        task_expected_output=\"Just output the translated poem and nothing else\"\n",
    "    )\n",
    "\n",
    "    agent_3 = Agent(\n",
    "        name=\"Writer Agent\",\n",
    "        backstory=\"You are an expert transcriber, that loves writing poems into txt files\",\n",
    "        task_description=\"You'll receive a Spanish poem in your context. You need to write the poem into './poem.txt' file\",\n",
    "        task_expected_output=\"A txt file containing the Spanish poem received from the context\",\n",
    "        tools=write_str_to_txt,\n",
    "    )\n",
    "\n",
    "    agent_1 >> agent_2 >> agent_3"
   ]
  },
  {
   "cell_type": "code",
   "execution_count": 18,
   "metadata": {
    "id": "RaqLS8AFD605"
   },
   "outputs": [
    {
     "data": {
      "image/svg+xml": [
       "<?xml version=\"1.0\" encoding=\"UTF-8\" standalone=\"no\"?>\n",
       "<!DOCTYPE svg PUBLIC \"-//W3C//DTD SVG 1.1//EN\"\n",
       " \"http://www.w3.org/Graphics/SVG/1.1/DTD/svg11.dtd\">\n",
       "<!-- Generated by graphviz version 13.0.0 (20250608.1624)\n",
       " -->\n",
       "<!-- Pages: 1 -->\n",
       "<svg width=\"202pt\" height=\"188pt\"\n",
       " viewBox=\"0.00 0.00 202.00 188.00\" xmlns=\"http://www.w3.org/2000/svg\" xmlns:xlink=\"http://www.w3.org/1999/xlink\">\n",
       "<g id=\"graph0\" class=\"graph\" transform=\"scale(1 1) rotate(0) translate(4 184)\">\n",
       "<polygon fill=\"white\" stroke=\"none\" points=\"-4,4 -4,-184 197.8,-184 197.8,4 -4,4\"/>\n",
       "<!-- Poet Agent -->\n",
       "<g id=\"node1\" class=\"node\">\n",
       "<title>Poet Agent</title>\n",
       "<ellipse fill=\"none\" stroke=\"black\" cx=\"96.9\" cy=\"-162\" rx=\"51.86\" ry=\"18\"/>\n",
       "<text xml:space=\"preserve\" text-anchor=\"middle\" x=\"96.9\" y=\"-156.95\" font-family=\"Times New Roman,serif\" font-size=\"14.00\">Poet Agent</text>\n",
       "</g>\n",
       "<!-- Poem Translator Agent -->\n",
       "<g id=\"node2\" class=\"node\">\n",
       "<title>Poem Translator Agent</title>\n",
       "<ellipse fill=\"none\" stroke=\"black\" cx=\"96.9\" cy=\"-90\" rx=\"96.9\" ry=\"18\"/>\n",
       "<text xml:space=\"preserve\" text-anchor=\"middle\" x=\"96.9\" y=\"-84.95\" font-family=\"Times New Roman,serif\" font-size=\"14.00\">Poem Translator Agent</text>\n",
       "</g>\n",
       "<!-- Poet Agent&#45;&gt;Poem Translator Agent -->\n",
       "<g id=\"edge1\" class=\"edge\">\n",
       "<title>Poet Agent&#45;&gt;Poem Translator Agent</title>\n",
       "<path fill=\"none\" stroke=\"black\" d=\"M96.9,-143.7C96.9,-136.41 96.9,-127.73 96.9,-119.54\"/>\n",
       "<polygon fill=\"black\" stroke=\"black\" points=\"100.4,-119.62 96.9,-109.62 93.4,-119.62 100.4,-119.62\"/>\n",
       "</g>\n",
       "<!-- Writer Agent -->\n",
       "<g id=\"node3\" class=\"node\">\n",
       "<title>Writer Agent</title>\n",
       "<ellipse fill=\"none\" stroke=\"black\" cx=\"96.9\" cy=\"-18\" rx=\"59.54\" ry=\"18\"/>\n",
       "<text xml:space=\"preserve\" text-anchor=\"middle\" x=\"96.9\" y=\"-12.95\" font-family=\"Times New Roman,serif\" font-size=\"14.00\">Writer Agent</text>\n",
       "</g>\n",
       "<!-- Poem Translator Agent&#45;&gt;Writer Agent -->\n",
       "<g id=\"edge2\" class=\"edge\">\n",
       "<title>Poem Translator Agent&#45;&gt;Writer Agent</title>\n",
       "<path fill=\"none\" stroke=\"black\" d=\"M96.9,-71.7C96.9,-64.41 96.9,-55.73 96.9,-47.54\"/>\n",
       "<polygon fill=\"black\" stroke=\"black\" points=\"100.4,-47.62 96.9,-37.62 93.4,-47.62 100.4,-47.62\"/>\n",
       "</g>\n",
       "</g>\n",
       "</svg>\n"
      ],
      "text/plain": [
       "<graphviz.graphs.Digraph at 0x27a526df350>"
      ]
     },
     "execution_count": 18,
     "metadata": {},
     "output_type": "execute_result"
    }
   ],
   "source": [
    "crew.plot()"
   ]
  },
  {
   "cell_type": "code",
   "execution_count": 19,
   "metadata": {
    "id": "QtK1N4JID8gE"
   },
   "outputs": [
    {
     "name": "stdout",
     "output_type": "stream",
     "text": [
      "\u001b[1m\u001b[36m\n",
      "==================================================\n",
      "\u001b[35mRUNNING AGENT: Poet Agent\n",
      "\u001b[1m\u001b[36m==================================================\n",
      "\n",
      "\u001b[31mIn fleeting whispers life does dance,  \n",
      "Through loves embraced and moments chanced.  \n",
      "In shadowed depths and skies of light,  \n",
      "We seek our truths, both day and night.  \n",
      "Life's meaning rests in hearts entwined,  \n",
      "Where joy and sorrow life define.  \n",
      "\u001b[1m\u001b[36m\n",
      "==================================================\n",
      "\u001b[35mRUNNING AGENT: Poem Translator Agent\n",
      "\u001b[1m\u001b[36m==================================================\n",
      "\n",
      "\u001b[31mEn susurros fugaces la vida danza,  \n",
      "A través de amores abrazados y momentos al azar.  \n",
      "En profundidades sombrías y cielos de luz,  \n",
      "Buscamos nuestras verdades, tanto de día como de noche.  \n",
      "El significado de la vida descansa en corazones entrelazados,  \n",
      "Donde la alegría y el dolor definen la vida.\n",
      "\u001b[1m\u001b[36m\n",
      "==================================================\n",
      "\u001b[35mRUNNING AGENT: Writer Agent\n",
      "\u001b[1m\u001b[36m==================================================\n",
      "\n",
      "\u001b[35m\n",
      "Thought: I need to write the provided Spanish poem into a text file named 'poem.txt'.\n",
      "\u001b[32m\n",
      "Using Tool: write_str_to_txt\n",
      "\u001b[32m\n",
      "Tool call dict: \n",
      "{'name': 'write_str_to_txt', 'arguments': {'string_data': 'En susurros fugaces la vida danza,  \\nA través de amores abrazados y momentos al azar.  \\nEn profundidades sombrías y cielos de luz,  \\nBuscamos nuestras verdades, tanto de día como de noche.  \\nEl significado de la vida descansa en corazones entrelazados,  \\nDonde la alegría y el dolor definen la vida.', 'txt_filename': 'poem.txt'}, 'id': 0}\n",
      "Data successfully written to poem.txt\n",
      "\u001b[32m\n",
      "Tool result: \n",
      "None\n",
      "\u001b[34m\n",
      "Observations: {0: None}\n",
      "\u001b[31mThe Spanish poem has been successfully written into 'poem.txt'.\n"
     ]
    }
   ],
   "source": [
    "crew.run()"
   ]
  }
 ],
 "metadata": {
  "colab": {
   "authorship_tag": "ABX9TyMzdCdgt/2M2XrlzQUQoP2t",
   "provenance": []
  },
  "kernelspec": {
   "display_name": "Python 3 (ipykernel)",
   "language": "python",
   "name": "python3"
  },
  "language_info": {
   "codemirror_mode": {
    "name": "ipython",
    "version": 3
   },
   "file_extension": ".py",
   "mimetype": "text/x-python",
   "name": "python",
   "nbconvert_exporter": "python",
   "pygments_lexer": "ipython3",
   "version": "3.12.8"
  }
 },
 "nbformat": 4,
 "nbformat_minor": 4
}
