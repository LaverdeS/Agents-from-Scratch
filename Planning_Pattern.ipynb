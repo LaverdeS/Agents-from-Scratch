{
 "cells": [
  {
   "cell_type": "markdown",
   "metadata": {
    "id": "aJwVSJ7cf1CE"
   },
   "source": [
    "# Planning Pattern - ReAct Technique"
   ]
  },
  {
   "cell_type": "code",
   "execution_count": 1,
   "metadata": {},
   "outputs": [
    {
     "data": {
      "text/plain": [
       "True"
      ]
     },
     "execution_count": 1,
     "metadata": {},
     "output_type": "execute_result"
    }
   ],
   "source": [
    "from dotenv import load_dotenv\n",
    "load_dotenv()"
   ]
  },
  {
   "cell_type": "code",
   "execution_count": 2,
   "metadata": {},
   "outputs": [],
   "source": [
    "from utils import (\n",
    "    completions_create,\n",
    "    build_prompt_structure,\n",
    "    update_chat_history,\n",
    "    ChatHistory,\n",
    "    FixedFirstChatHistory,\n",
    "    fancy_print,\n",
    "    get_fn_signature,\n",
    "    validate_arguments,\n",
    "    Tool,\n",
    "    tool,\n",
    "    extract_tag_content,\n",
    "    TagContentResult\n",
    ")"
   ]
  },
  {
   "cell_type": "code",
   "execution_count": 3,
   "metadata": {
    "id": "NS0UyZ2ZkQ5X"
   },
   "outputs": [],
   "source": [
    "from tools import (\n",
    "    sum_two_elements,\n",
    "    multiply_two_elements,\n",
    "    compute_log\n",
    ")\n",
    "\n",
    "\n",
    "available_tools = {\n",
    "    \"sum_two_elements\": sum_two_elements,\n",
    "    \"multiply_two_elements\": multiply_two_elements,\n",
    "    \"compute_log\": compute_log\n",
    "}"
   ]
  },
  {
   "cell_type": "code",
   "execution_count": 4,
   "metadata": {
    "id": "lDQMWWhRkfl5"
   },
   "outputs": [
    {
     "name": "stdout",
     "output_type": "stream",
     "text": [
      "Tool name:  sum_two_elements\n",
      "Tool signature:  {\"name\": \"sum_two_elements\", \"description\": \"\\n    Computes the sum of two integers.\\n\\n    Args:\\n        a (int): The first integer to be summed.\\n        b (int): The second integer to be summed.\\n\\n    Returns:\\n        int: The sum of `a` and `b`.\\n    \", \"parameters\": {\"properties\": {\"a\": {\"type\": \"int\"}, \"b\": {\"type\": \"int\"}}}}\n"
     ]
    }
   ],
   "source": [
    "print(\"Tool name: \", sum_two_elements.name)\n",
    "print(\"Tool signature: \", sum_two_elements.fn_signature)"
   ]
  },
  {
   "cell_type": "code",
   "execution_count": 5,
   "metadata": {
    "id": "PA8vSzKxkl13"
   },
   "outputs": [],
   "source": [
    "tools_signature = sum_two_elements.fn_signature + \",\\n\" + multiply_two_elements.fn_signature + \",\\n\" + compute_log.fn_signature"
   ]
  },
  {
   "cell_type": "code",
   "execution_count": 6,
   "metadata": {
    "id": "2586T7d3kp60"
   },
   "outputs": [
    {
     "name": "stdout",
     "output_type": "stream",
     "text": [
      "{\"name\": \"sum_two_elements\", \"description\": \"\\n    Computes the sum of two integers.\\n\\n    Args:\\n        a (int): The first integer to be summed.\\n        b (int): The second integer to be summed.\\n\\n    Returns:\\n        int: The sum of `a` and `b`.\\n    \", \"parameters\": {\"properties\": {\"a\": {\"type\": \"int\"}, \"b\": {\"type\": \"int\"}}}},\n",
      "{\"name\": \"multiply_two_elements\", \"description\": \"\\n    Multiplies two integers.\\n\\n    Args:\\n        a (int): The first integer to multiply.\\n        b (int): The second integer to multiply.\\n\\n    Returns:\\n        int: The product of `a` and `b`.\\n    \", \"parameters\": {\"properties\": {\"a\": {\"type\": \"int\"}, \"b\": {\"type\": \"int\"}}}},\n",
      "{\"name\": \"compute_log\", \"description\": \"\\n    Computes the logarithm of an integer `x` with an optional base.\\n\\n    Args:\\n        x (int): The integer value for which the logarithm is computed. Must be greater than 0.\\n\\n    Returns:\\n        float: The logarithm of `x` to the specified `base`.\\n    \", \"parameters\": {\"properties\": {\"x\": {\"type\": \"int\"}}}}\n"
     ]
    }
   ],
   "source": [
    "print(tools_signature)"
   ]
  },
  {
   "cell_type": "markdown",
   "metadata": {
    "id": "6S4UoKBzlqQU"
   },
   "source": [
    "## Building a ReAct Agent"
   ]
  },
  {
   "cell_type": "code",
   "execution_count": 7,
   "metadata": {
    "id": "mqeCY-2jlmZb"
   },
   "outputs": [],
   "source": [
    "import json\n",
    "import re\n",
    "\n",
    "from colorama import Fore\n",
    "from openai import OpenAI\n",
    "\n",
    "\n",
    "BASE_SYSTEM_PROMPT = \"\"\n",
    "\n",
    "\n",
    "REACT_SYSTEM_PROMPT = \"\"\"\n",
    "You operate by running a loop with the following steps: Thought, Action, Observation.\n",
    "You are provided with function signatures within <tools></tools> XML tags.\n",
    "You may call one or more functions to assist with the user query. Don' make assumptions about what values to plug\n",
    "into functions. Pay special attention to the properties 'types'. You should use those types as in a Python dict.\n",
    "\n",
    "For each function call return a json object with function name and arguments within <tool_call></tool_call> XML tags as follows:\n",
    "\n",
    "<tool_call>\n",
    "{\"name\": <function-name>,\"arguments\": <args-dict>, \"id\": <monotonically-increasing-id>}\n",
    "</tool_call>\n",
    "\n",
    "Here are the available tools / actions:\n",
    "\n",
    "<tools>\n",
    "%s\n",
    "</tools>\n",
    "\n",
    "Example session:\n",
    "\n",
    "<question>What's the current temperature in Madrid?</question>\n",
    "<thought>I need to get the current weather in Madrid</thought>\n",
    "<tool_call>{\"name\": \"get_current_weather\",\"arguments\": {\"location\": \"Madrid\", \"unit\": \"celsius\"}, \"id\": 0}</tool_call>\n",
    "\n",
    "You will be called again with this:\n",
    "\n",
    "<observation>{0: {\"temperature\": 25, \"unit\": \"celsius\"}}</observation>\n",
    "\n",
    "You then output:\n",
    "\n",
    "<response>The current temperature in Madrid is 25 degrees Celsius</response>\n",
    "\n",
    "Additional constraints:\n",
    "\n",
    "- If the user asks you something unrelated to any of the tools above, answer freely enclosing your answer with <response></response> tags.\n",
    "\"\"\"\n",
    "\n",
    "\n",
    "class ReactAgent:\n",
    "    \"\"\"\n",
    "    A class that represents an agent using the ReAct logic that interacts with tools to process\n",
    "    user inputs, make decisions, and execute tool calls. The agent can run interactive sessions,\n",
    "    collect tool signatures, and process multiple tool calls in a given round of interaction.\n",
    "\n",
    "    Attributes:\n",
    "        client (OpenAI): The OpenAI client used to handle model-based completions.\n",
    "        model (str): The name of the model used for generating responses. Default is \"gpt-4o\".\n",
    "        tools (list[Tool]): A list of Tool instances available for execution.\n",
    "        tools_dict (dict): A dictionary mapping tool names to their corresponding Tool instances.\n",
    "    \"\"\"\n",
    "\n",
    "    def __init__(\n",
    "        self,\n",
    "        tools: Tool | list[Tool],\n",
    "        model: str = \"gpt-4o\",\n",
    "        system_prompt: str = BASE_SYSTEM_PROMPT,\n",
    "    ) -> None:\n",
    "        self.client = OpenAI()\n",
    "        self.model = model\n",
    "        self.system_prompt = system_prompt\n",
    "        self.tools = tools if isinstance(tools, list) else [tools]\n",
    "        self.tools_dict = {tool.name: tool for tool in self.tools}\n",
    "\n",
    "    def add_tool_signatures(self) -> str:\n",
    "        \"\"\"\n",
    "        Collects the function signatures of all available tools.\n",
    "\n",
    "        Returns:\n",
    "            str: A concatenated string of all tool function signatures in JSON format.\n",
    "        \"\"\"\n",
    "        return \"\".join([tool.fn_signature for tool in self.tools])\n",
    "\n",
    "    def process_tool_calls(self, tool_calls_content: list) -> dict:\n",
    "        \"\"\"\n",
    "        Processes each tool call, validates arguments, executes the tools, and collects results.\n",
    "\n",
    "        Args:\n",
    "            tool_calls_content (list): List of strings, each representing a tool call in JSON format.\n",
    "\n",
    "        Returns:\n",
    "            dict: A dictionary where the keys are tool call IDs and values are the results from the tools.\n",
    "        \"\"\"\n",
    "        observations = {}\n",
    "        for tool_call_str in tool_calls_content:\n",
    "            tool_call = json.loads(tool_call_str)\n",
    "            tool_name = tool_call[\"name\"]\n",
    "            tool = self.tools_dict[tool_name]\n",
    "\n",
    "            print(Fore.GREEN + f\"\\nUsing Tool: {tool_name}\")\n",
    "\n",
    "            # Validate and execute the tool call\n",
    "            validated_tool_call = validate_arguments(\n",
    "                tool_call, json.loads(tool.fn_signature)\n",
    "            )\n",
    "            print(Fore.GREEN + f\"\\nTool call dict: \\n{validated_tool_call}\")\n",
    "\n",
    "            result = tool.run(**validated_tool_call[\"arguments\"])\n",
    "            print(Fore.GREEN + f\"\\nTool result: \\n{result}\")\n",
    "\n",
    "            # Store the result using the tool call ID\n",
    "            observations[validated_tool_call[\"id\"]] = result\n",
    "\n",
    "        return observations\n",
    "\n",
    "    def run(\n",
    "        self,\n",
    "        user_msg: str,\n",
    "        max_rounds: int = 10,\n",
    "    ) -> str:\n",
    "        \"\"\"\n",
    "        Executes a user interaction session, where the agent processes user input, generates responses,\n",
    "        handles tool calls, and updates chat history until a final response is ready or the maximum\n",
    "        number of rounds is reached.\n",
    "\n",
    "        Args:\n",
    "            user_msg (str): The user's input message to start the interaction.\n",
    "            max_rounds (int, optional): Maximum number of interaction rounds the agent should perform. Default is 10.\n",
    "\n",
    "        Returns:\n",
    "            str: The final response generated by the agent after processing user input and any tool calls.\n",
    "        \"\"\"\n",
    "        user_prompt = build_prompt_structure(\n",
    "            prompt=user_msg, role=\"user\", tag=\"question\"\n",
    "        )\n",
    "        if self.tools:\n",
    "            self.system_prompt += (\n",
    "                \"\\n\" + REACT_SYSTEM_PROMPT % self.add_tool_signatures()\n",
    "            )\n",
    "\n",
    "        chat_history = ChatHistory(\n",
    "            [\n",
    "                build_prompt_structure(\n",
    "                    prompt=self.system_prompt,\n",
    "                    role=\"system\",\n",
    "                ),\n",
    "                user_prompt,\n",
    "            ]\n",
    "        )\n",
    "\n",
    "        if self.tools:\n",
    "            # Run the ReAct loop for max_rounds\n",
    "            for _ in range(max_rounds):\n",
    "\n",
    "                completion = completions_create(self.client, chat_history, self.model)\n",
    "\n",
    "                response = extract_tag_content(str(completion), \"response\")\n",
    "                if response.found:\n",
    "                    return response.content[0]\n",
    "\n",
    "                thought = extract_tag_content(str(completion), \"thought\")\n",
    "                tool_calls = extract_tag_content(str(completion), \"tool_call\")\n",
    "\n",
    "                update_chat_history(chat_history, completion, \"assistant\")\n",
    "\n",
    "                print(Fore.MAGENTA + f\"\\nThought: {thought.content[0]}\")\n",
    "\n",
    "                if tool_calls.found:\n",
    "                    observations = self.process_tool_calls(tool_calls.content)\n",
    "                    print(Fore.BLUE + f\"\\nObservations: {observations}\")\n",
    "                    update_chat_history(chat_history, f\"{observations}\", \"user\")\n",
    "\n",
    "        return completions_create(self.client, chat_history, self.model)\n"
   ]
  },
  {
   "cell_type": "code",
   "execution_count": 8,
   "metadata": {
    "id": "gnno6RSXmUvk"
   },
   "outputs": [],
   "source": [
    "agent = ReactAgent(tools=[sum_two_elements, multiply_two_elements, compute_log])"
   ]
  },
  {
   "cell_type": "code",
   "execution_count": 9,
   "metadata": {
    "id": "vPyWxLjKmXIv"
   },
   "outputs": [
    {
     "name": "stdout",
     "output_type": "stream",
     "text": [
      "\u001b[35m\n",
      "Thought: I need to first calculate the sum of 1234 and 5678, then multiply the result by 5, and finally compute the logarithm of this result.\n",
      "\u001b[32m\n",
      "Using Tool: sum_two_elements\n",
      "\u001b[32m\n",
      "Tool call dict: \n",
      "{'name': 'sum_two_elements', 'arguments': {'a': 1234, 'b': 5678}, 'id': 0}\n",
      "\u001b[32m\n",
      "Tool result: \n",
      "6912\n",
      "\u001b[34m\n",
      "Observations: {0: 6912}\n",
      "\u001b[35m\n",
      "Thought: The sum of 1234 and 5678 is 6912. Next, I need to multiply this result by 5.\n",
      "\u001b[32m\n",
      "Using Tool: multiply_two_elements\n",
      "\u001b[32m\n",
      "Tool call dict: \n",
      "{'name': 'multiply_two_elements', 'arguments': {'a': 6912, 'b': 5}, 'id': 1}\n",
      "\u001b[32m\n",
      "Tool result: \n",
      "34560\n",
      "\u001b[34m\n",
      "Observations: {1: 34560}\n",
      "\u001b[35m\n",
      "Thought: The product of 6912 and 5 is 34560. Now, I need to compute the logarithm of this result.\n",
      "\u001b[32m\n",
      "Using Tool: compute_log\n",
      "\u001b[32m\n",
      "Tool call dict: \n",
      "{'name': 'compute_log', 'arguments': {'x': 34560}, 'id': 2}\n",
      "\u001b[32m\n",
      "Tool result: \n",
      "10.450452222917992\n",
      "\u001b[34m\n",
      "Observations: {2: 10.450452222917992}\n"
     ]
    },
    {
     "data": {
      "text/plain": [
       "'The result of taking the logarithm of the number 34560 is approximately 10.45.'"
      ]
     },
     "execution_count": 9,
     "metadata": {},
     "output_type": "execute_result"
    }
   ],
   "source": [
    "agent.run(user_msg=\"I want to calculate the sum of 1234 and 5678 and multiply the result by 5. Then, I want to take the logarithm of this result\")"
   ]
  },
  {
   "cell_type": "markdown",
   "metadata": {
    "id": "NjzlcPOnmbod"
   },
   "source": [
    "A ReAct Agent working completely from Scratch! 🚀🚀🚀🚀"
   ]
  }
 ],
 "metadata": {
  "colab": {
   "authorship_tag": "ABX9TyOPotDLrYKuvhJ6iLUToF+j",
   "provenance": []
  },
  "kernelspec": {
   "display_name": "Python 3 (ipykernel)",
   "language": "python",
   "name": "python3"
  },
  "language_info": {
   "codemirror_mode": {
    "name": "ipython",
    "version": 3
   },
   "file_extension": ".py",
   "mimetype": "text/x-python",
   "name": "python",
   "nbconvert_exporter": "python",
   "pygments_lexer": "ipython3",
   "version": "3.12.8"
  }
 },
 "nbformat": 4,
 "nbformat_minor": 4
}
